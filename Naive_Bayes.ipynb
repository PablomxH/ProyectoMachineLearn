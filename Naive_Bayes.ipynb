{
  "nbformat": 4,
  "nbformat_minor": 0,
  "metadata": {
    "colab": {
      "provenance": []
    },
    "kernelspec": {
      "name": "python3",
      "display_name": "Python 3"
    },
    "language_info": {
      "name": "python"
    }
  },
  "cells": [
    {
      "cell_type": "code",
      "source": [
        "import pandas as pd\n",
        "import numpy as np\n",
        "from sklearn.model_selection import train_test_split\n",
        "from sklearn.naive_bayes import GaussianNB\n",
        "from sklearn.metrics import confusion_matrix"
      ],
      "metadata": {
        "id": "D_f-cmLptoeF"
      },
      "execution_count": 1,
      "outputs": []
    },
    {
      "cell_type": "code",
      "source": [
        "url = \"https://raw.githubusercontent.com/vega/vega/main/docs/data/seattle-weather.csv\"\n",
        "datos = pd.read_csv(url)"
      ],
      "metadata": {
        "id": "35XaFpPbtqeM"
      },
      "execution_count": 2,
      "outputs": []
    },
    {
      "cell_type": "code",
      "source": [
        "X = datos[['temp_max', 'temp_min']]\n",
        "y = datos['weather']"
      ],
      "metadata": {
        "id": "Zyi2JXYBuF9F"
      },
      "execution_count": 3,
      "outputs": []
    },
    {
      "cell_type": "code",
      "source": [
        "y_binary = np.where(y == 'rain', 1, 0)"
      ],
      "metadata": {
        "id": "FuApXrlMuPo7"
      },
      "execution_count": 4,
      "outputs": []
    },
    {
      "cell_type": "code",
      "source": [
        "x_train, x_test, y_train, y_test = train_test_split(X, y_binary, test_size=0.4, random_state=42)"
      ],
      "metadata": {
        "id": "2a7vyauYubB9"
      },
      "execution_count": 5,
      "outputs": []
    },
    {
      "cell_type": "code",
      "source": [
        "modelo_naive_bayes = GaussianNB()\n",
        "modelo_naive_bayes.fit(x_test, y_test)"
      ],
      "metadata": {
        "colab": {
          "base_uri": "https://localhost:8080/",
          "height": 74
        },
        "id": "MvL5M2Gyum-C",
        "outputId": "df21deeb-ccaf-4064-8e8a-59d0c2ed4e3e"
      },
      "execution_count": 6,
      "outputs": [
        {
          "output_type": "execute_result",
          "data": {
            "text/plain": [
              "GaussianNB()"
            ],
            "text/html": [
              "<style>#sk-container-id-1 {color: black;background-color: white;}#sk-container-id-1 pre{padding: 0;}#sk-container-id-1 div.sk-toggleable {background-color: white;}#sk-container-id-1 label.sk-toggleable__label {cursor: pointer;display: block;width: 100%;margin-bottom: 0;padding: 0.3em;box-sizing: border-box;text-align: center;}#sk-container-id-1 label.sk-toggleable__label-arrow:before {content: \"▸\";float: left;margin-right: 0.25em;color: #696969;}#sk-container-id-1 label.sk-toggleable__label-arrow:hover:before {color: black;}#sk-container-id-1 div.sk-estimator:hover label.sk-toggleable__label-arrow:before {color: black;}#sk-container-id-1 div.sk-toggleable__content {max-height: 0;max-width: 0;overflow: hidden;text-align: left;background-color: #f0f8ff;}#sk-container-id-1 div.sk-toggleable__content pre {margin: 0.2em;color: black;border-radius: 0.25em;background-color: #f0f8ff;}#sk-container-id-1 input.sk-toggleable__control:checked~div.sk-toggleable__content {max-height: 200px;max-width: 100%;overflow: auto;}#sk-container-id-1 input.sk-toggleable__control:checked~label.sk-toggleable__label-arrow:before {content: \"▾\";}#sk-container-id-1 div.sk-estimator input.sk-toggleable__control:checked~label.sk-toggleable__label {background-color: #d4ebff;}#sk-container-id-1 div.sk-label input.sk-toggleable__control:checked~label.sk-toggleable__label {background-color: #d4ebff;}#sk-container-id-1 input.sk-hidden--visually {border: 0;clip: rect(1px 1px 1px 1px);clip: rect(1px, 1px, 1px, 1px);height: 1px;margin: -1px;overflow: hidden;padding: 0;position: absolute;width: 1px;}#sk-container-id-1 div.sk-estimator {font-family: monospace;background-color: #f0f8ff;border: 1px dotted black;border-radius: 0.25em;box-sizing: border-box;margin-bottom: 0.5em;}#sk-container-id-1 div.sk-estimator:hover {background-color: #d4ebff;}#sk-container-id-1 div.sk-parallel-item::after {content: \"\";width: 100%;border-bottom: 1px solid gray;flex-grow: 1;}#sk-container-id-1 div.sk-label:hover label.sk-toggleable__label {background-color: #d4ebff;}#sk-container-id-1 div.sk-serial::before {content: \"\";position: absolute;border-left: 1px solid gray;box-sizing: border-box;top: 0;bottom: 0;left: 50%;z-index: 0;}#sk-container-id-1 div.sk-serial {display: flex;flex-direction: column;align-items: center;background-color: white;padding-right: 0.2em;padding-left: 0.2em;position: relative;}#sk-container-id-1 div.sk-item {position: relative;z-index: 1;}#sk-container-id-1 div.sk-parallel {display: flex;align-items: stretch;justify-content: center;background-color: white;position: relative;}#sk-container-id-1 div.sk-item::before, #sk-container-id-1 div.sk-parallel-item::before {content: \"\";position: absolute;border-left: 1px solid gray;box-sizing: border-box;top: 0;bottom: 0;left: 50%;z-index: -1;}#sk-container-id-1 div.sk-parallel-item {display: flex;flex-direction: column;z-index: 1;position: relative;background-color: white;}#sk-container-id-1 div.sk-parallel-item:first-child::after {align-self: flex-end;width: 50%;}#sk-container-id-1 div.sk-parallel-item:last-child::after {align-self: flex-start;width: 50%;}#sk-container-id-1 div.sk-parallel-item:only-child::after {width: 0;}#sk-container-id-1 div.sk-dashed-wrapped {border: 1px dashed gray;margin: 0 0.4em 0.5em 0.4em;box-sizing: border-box;padding-bottom: 0.4em;background-color: white;}#sk-container-id-1 div.sk-label label {font-family: monospace;font-weight: bold;display: inline-block;line-height: 1.2em;}#sk-container-id-1 div.sk-label-container {text-align: center;}#sk-container-id-1 div.sk-container {/* jupyter's `normalize.less` sets `[hidden] { display: none; }` but bootstrap.min.css set `[hidden] { display: none !important; }` so we also need the `!important` here to be able to override the default hidden behavior on the sphinx rendered scikit-learn.org. See: https://github.com/scikit-learn/scikit-learn/issues/21755 */display: inline-block !important;position: relative;}#sk-container-id-1 div.sk-text-repr-fallback {display: none;}</style><div id=\"sk-container-id-1\" class=\"sk-top-container\"><div class=\"sk-text-repr-fallback\"><pre>GaussianNB()</pre><b>In a Jupyter environment, please rerun this cell to show the HTML representation or trust the notebook. <br />On GitHub, the HTML representation is unable to render, please try loading this page with nbviewer.org.</b></div><div class=\"sk-container\" hidden><div class=\"sk-item\"><div class=\"sk-estimator sk-toggleable\"><input class=\"sk-toggleable__control sk-hidden--visually\" id=\"sk-estimator-id-1\" type=\"checkbox\" checked><label for=\"sk-estimator-id-1\" class=\"sk-toggleable__label sk-toggleable__label-arrow\">GaussianNB</label><div class=\"sk-toggleable__content\"><pre>GaussianNB()</pre></div></div></div></div></div>"
            ]
          },
          "metadata": {},
          "execution_count": 6
        }
      ]
    },
    {
      "cell_type": "code",
      "source": [
        "y_pred = modelo_naive_bayes.predict(x_test)"
      ],
      "metadata": {
        "id": "fGGVspQ_vNnk"
      },
      "execution_count": 7,
      "outputs": []
    },
    {
      "cell_type": "code",
      "source": [
        "matriz_confusion = confusion_matrix(y_test, y_pred)\n",
        "(TN, FP, FN, TP) = matriz_confusion.ravel()"
      ],
      "metadata": {
        "id": "ymPSWo9fvaUM"
      },
      "execution_count": 8,
      "outputs": []
    },
    {
      "cell_type": "code",
      "execution_count": 9,
      "metadata": {
        "colab": {
          "base_uri": "https://localhost:8080/"
        },
        "id": "kgZsDpV1s-eh",
        "outputId": "58f9149d-7d08-423c-f0a8-023814f8a16e"
      },
      "outputs": [
        {
          "output_type": "stream",
          "name": "stdout",
          "text": [
            "Matriz de Confusión:\n",
            "[[213 112]\n",
            " [ 49 211]]\n",
            "Verdaderos positivos: 211\n",
            "Verdaderos negativos: 213\n",
            "Falsos positivos: 112\n",
            "Falsos negativos: 49\n",
            "Precision: 65.3250773993808 %\n",
            "Exactitud: 72.47863247863248 %\n",
            "Sensibilidad: 81.15384615384616 %\n",
            "Especificidad: 65.53846153846153 %\n"
          ]
        }
      ],
      "source": [
        "def calcularPrecision(TP, FP):\n",
        "    precision = TP / (TP + FP)\n",
        "    precision = precision * 100\n",
        "    return precision\n",
        "\n",
        "def calcularExactitud(TP, TN, FP, FN):\n",
        "    exactitud = (TP + TN) / (TP + TN + FP + FN)\n",
        "    exactitud = exactitud * 100\n",
        "    return exactitud\n",
        "\n",
        "def calcularSensibilidad(TP, TN, FP, FN):\n",
        "    sensibilidad = TP / (TP + FN)\n",
        "    sensibilidad = sensibilidad * 100\n",
        "    return sensibilidad\n",
        "\n",
        "def calcularEspecificidad(TP, TN, FP, FN):\n",
        "    especificidad = TN / (TN + FP)\n",
        "    especificidad = especificidad * 100\n",
        "    return especificidad\n",
        "\n",
        "precision = calcularPrecision(TP, FP)\n",
        "exactitud = calcularExactitud(TP, TN, FP, FN)\n",
        "sen = calcularSensibilidad(TP, TN, FP, FN)\n",
        "especificidad = calcularEspecificidad(TP, TN, FP, FN)\n",
        "\n",
        "print(\"Matriz de Confusión:\")\n",
        "print(matriz_confusion)\n",
        "print(\"Verdaderos positivos:\", TP)\n",
        "print(\"Verdaderos negativos:\", TN)\n",
        "print(\"Falsos positivos:\", FP)\n",
        "print(\"Falsos negativos:\", FN)\n",
        "print(\"Precision:\", precision, \"%\")\n",
        "print(\"Exactitud:\", exactitud, \"%\")\n",
        "print(\"Sensibilidad:\", sen, \"%\")\n",
        "print(\"Especificidad:\", especificidad, \"%\")\n"
      ]
    }
  ]
}